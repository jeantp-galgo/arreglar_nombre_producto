{
 "cells": [
  {
   "cell_type": "code",
   "execution_count": 2,
   "metadata": {},
   "outputs": [],
   "source": [
    "from utilidades.utils import * # Utilidades\n",
    "from utilidades.json import * # Utilidades para manejar archivos json\n",
    "from contentful.manejo_contentful import ContentfulManager # Manejo de contentful\n",
    "from modificar_nombre_productos.modificar_modelo import procesar_modificacion_modelos # Modificar nombre de modelos\n",
    "from modificar_nombre_productos.utils import * # Utilidades para modificar nombre de modelos"
   ]
  },
  {
   "cell_type": "code",
   "execution_count": 3,
   "metadata": {},
   "outputs": [],
   "source": [
    "contentful_manager = ContentfulManager() # Instancia de ContentfulManager"
   ]
  },
  {
   "cell_type": "code",
   "execution_count": 4,
   "metadata": {},
   "outputs": [
    {
     "name": "stdout",
     "output_type": "stream",
     "text": [
      "Content type seleccionado: product\n"
     ]
    }
   ],
   "source": [
    "content_type_producto_moto, entradas_content_type_producto_moto = contentful_manager.traer_content_type(\"product\") # Traer el content type de producto de moto"
   ]
  },
  {
   "cell_type": "code",
   "execution_count": null,
   "metadata": {},
   "outputs": [],
   "source": [
    "entradas_producto_moto_mx = contentful_manager.entradas_por_pais(\"product\", \"MX\", mostrar = False) # Traer las entradas de producto de moto en México"
   ]
  },
  {
   "cell_type": "code",
   "execution_count": 15,
   "metadata": {},
   "outputs": [],
   "source": [
    "modelos = [\n",
    "    \"Crossmax 150 2023\", \"Crossmax 150 2024\", \"Crossmax 170 2024\", \n",
    "    \"Crossmax 170 2025\", \"Crossmax 200 2023\", \"Crossmax 200 2024\", \n",
    "    \"Crossmax 220 2024\", \"Crossmax 220 2025\", \"Crossmax 250 2023\", \n",
    "    \"Crossmax 250 2024\", \"Crossmax 250 2025\", \"Crossmax 250 Pro 2022\", \n",
    "    \"Crossmax 250 Pro 2023\", \"Crossmax 250 Pro 2024\", \"Crossmax 300 Pro 2024\", \n",
    "    \"Crossmax 300 Pro 2025\", \"Crossmax 300 Rally 2024\", \"Crossmax 300 Rally 2025\", \n",
    "    \"Cyclone 150 2022\", \"Cyclone 150 2024\", \"Cyclone 190 2024\", \"Cyclone 200 2024\", \n",
    "    \"Cyclone 210 2025\", \"Eclipse 150 2024\", \"Falkon 200 2022\", \"Falkon 200 2023\", \n",
    "    \"Falkon 220 2024\", \"Falkon 220 2025\", \"Falkon 250 2022\", \"Falkon 250 2023\", \n",
    "    \"Gladiator 2023\", \"Gladiator 2024\", \"Gladiator 2024\", \"Gladiator 2025\", \n",
    "    \"GT 250 2023\", \"GT 250 2024\", \"GTS 300 2023\", \"GTS 300 2024\", \"GTS 300 2025\", \n",
    "    \"Hipster 150 2024\", \"Hipster 170 2024\", \"Hotrod 2023\", \"Hotrod 2024\", \n",
    "    \"Hyper 280 2022\", \"Hyper 280 2023\", \"Hyper 280 2024\", \"Hyper 280 2025\", \n",
    "    \"Intrepid 2024\", \"Intrepid 2025\", \"Lithium 190 2024\", \"Lithium 190 2025\", \n",
    "    \"Lithium 2023\", \"Lithium 2024\", \"Nitrox 200 2023\", \"Nitrox 200 2024\", \n",
    "    \"Nitrox 250 2023\", \"Nitrox 250 T3 2024\", \"Nitrox 250 T3 2025\", \n",
    "    \"Nitrox 300 T3 2024\", \"Nitrox 300 T3 2025\", \"OVNI 170 2024\", \"Ovni 170 2025\", \n",
    "    \"Phantom S 150 2024\", \"Phantom S 170 2024\", \"Phantom S 170 2025\", \n",
    "    \"Rapid 125 2024\", \"Rapid 125 2025\", \"Reptile Trek 200 2024\", \n",
    "    \"Reptile Trek 200 2025\", \"Rex 350 2025\", \"Rex 550 2025\", \"Rocketman 250 2022\", \n",
    "    \"Rocketman 250 2023\", \"Rocketman 300 Racing 2024\", \"Rocketman 300 Racing 2025\", \n",
    "    \"Rocketman Carrera 2024\", \"Rocketman Sports Café 2024\", \"Ruda 150 2023\", \n",
    "    \"Ruda 150 2024\", \"Ruda 170 2024\", \"Ruda 170 2025\", \"Ryder 150 2023\", \n",
    "    \"Ryder 150 2024\", \"Ryder 190 2024\", \"Ryder 190 2025\", \"Screamer 250 2022\", \n",
    "    \"Screamer 250 2023\", \"Screamer 300 2024\", \"Screamer 300 2025\", \n",
    "    \"Screamer Sportivo 2022\", \"Screamer Sportivo 2023\", \"Screamer Sportivo 2024\", \n",
    "    \"Screamer Sportivo 300 2024\", \"Screamer Sportivo 300 2025\", \"Spectra 7i 2025\", \n",
    "    \"Spirit 150 2023\", \"Spirit 150 2024\", \"Spirit 170 2024\", \"Spirit 170 2025\", \n",
    "    \"Storm 250 2022\", \"Storm 250 2023\", \"Storm 250 2024\", \"Storm 300 2024\", \n",
    "    \"Storm 300 2025\", \"Streetrod 2022\", \"Streetrod 2023\", \"Streetrod 2024\", \n",
    "    \"Streetrod 2025\", \"Terra S 150 2024\", \"Terra S 170 2024\", \"Terra S 170 2025\", \n",
    "    \"Thriller 200 2024\", \"Thriller 210 2024\", \"Thriller 210 2025\", \n",
    "    \"Thunderstar 250 Custom 2023\", \"Thunderstar 300 2024\", \"Thunderstar 300 2025\", \n",
    "    \"Tornado 250 2022\", \"Tornado 250 2023\", \"Tornado 300 2024\", \"Tornado 300 2025\", \n",
    "    \"Urban 200 2024\", \"Volare 150 2024\", \"Volare 170 2024\", \"Vracer 250 2024\", \n",
    "    \"Workman 125 2024\", \"Workman 150 2024\", \"Workman 190 2024\", \"Workman 190 2025\", \n",
    "    \"Workman 250 2025\", \"Xplor 190 2024\", \"Xplor 190 2025\", \"Xplor 2023\", \n",
    "    \"Xplor 2024\", \"Xpress 150 2024\", \"Xpress 170 2024\", \"XPRESS 170 Sport 2024\", \n",
    "    \"XPRESS 170 Sport 2025\", \"Zero7 2023\", \"Venom 200 2024\", \"AVANTI S 2024\", \n",
    "    \"AVANTI X 2024\", \"LEMENG 2024\", \"SKUTY ONE 2024\", \"Crypton 110 2023\", \n",
    "    \"CZD300-A XMAX 2023\", \"Fascino 2023\", \"Fascino 2024\", \"Fazer 2 2022\", \n",
    "    \"FZ 25 ABS 2024\", \"FZ 3.0 FI 2025\", \"FZ X 2023\", \"FZ X 2024\", \"FZN 150 2023\", \n",
    "    \"FZN 150 2025\", \"FZS 2.0 2022\", \"FZS 2.0 2023\", \"FZS 3.0 ABS 2022\", \n",
    "    \"FZS 3.0 ABS 2023\", \"FZS 3.0 ABS 2024\", \"MT 03 2023\", \"MT 03 2024\", \n",
    "    \"MT 07 2023\", \"MT 09 2023\", \"MT 09 2024\", \"MT 15 2023\", \"N MAX 2024\", \n",
    "    \"PW50 2023\", \"R 15 4.0 2023\", \"R1 2022\", \"R15 2024\", \"R3 2023\", \"R7 2023\", \n",
    "    \"Ray XC 115 2024\", \"Ray XC 115 2025\", \"Ray ZR 115 2023\", \"Ray ZR 125 FI 2025\", \n",
    "    \"Ray ZR FI 2023\", \"SZ RR 2022\", \"SZ RR 2023\", \"Tenere 1200 2023\", \n",
    "    \"Tenere 700 2023\", \"X Max 2023\", \"XT1200Z 2024\", \"XTZ 125 2022\", \"XTZ 125 2023\", \n",
    "    \"XTZ 125 E 2024\", \"XTZ 125 E 2025\", \"XTZ 150 2022\", \"XTZ 150 2023\", \n",
    "    \"XTZ 150 2024\", \"XTZ 250 2023\", \"YB 125 2023\", \"YB 125 2024\", \"YB 125 2025\", \n",
    "    \"YBR 125 C 2023\", \"YBR 125 C 2024\", \"YBR 125 C 2025\", \"YBR 125 C 2025\", \n",
    "    \"YBR 125 G 2023\", \"YBR 125 G 2024\", \"YBR 125 ZR 2022\", \"YBR 125 ZR 2024\", \n",
    "    \"YFM350 GRIZZLY 350 4X2 2022\", \"YFM700G 2024\", \"YFM700G EPS SE 2023\", \n",
    "    \"YZ 125 2023\", \"YZ 125 2024\", \"YZ 250 FX 2023\", \"YZ 250F 2023\", \"YZ 250F 2024\", \n",
    "    \"YZ 450 F 2024\", \"YZ 450 FX 2022\", \"YZ 450 FX 2023\", \"YZ 450 FX 2024\", \n",
    "    \"YZ65 2023\", \"YZ65 2025\", \"YZ85 LW\", \"YZ85 LW 2024\", \"YZ85 LW 2024\", \n",
    "    \"YZF R15 4V 2024\", \"YZF R3 2024\", \"DS 2024\", \"DSR 2024\", \"FX 2024\", \n",
    "    \"SR F 2024\", \"CRX 150 2024\", \"MAXX 125 2024\", \"Runga 250 2024\", \n",
    "    \"Runga 250 con Cabina 2024\", \"Runga 250 Pasajeros 2024\", \"Runga 320Z 2024\", \n",
    "    \"SX6 250 2024\", \"ZM 150 2024\", \"ZMAX 200 2024\", \"ZMAX 200 Plus 2024\", \n",
    "    \"E 350 2024\", \"GK 350 2024\", \"M 350 2024\", \"R1 350 2024\", \"T1 350 2024\", \n",
    "    \"T2 350 2024\", \"U 200 2024\", \"U1 200 2024\", \"V1 350 2024\", \"VX 350 2024\", \n",
    "    \"X1 350 2024\"\n",
    "]\n"
   ]
  },
  {
   "cell_type": "code",
   "execution_count": 16,
   "metadata": {},
   "outputs": [],
   "source": [
    "def main(entradas_producto_moto_mx, modelos, modificar_realmente=False):\n",
    "    \"\"\"\n",
    "    Función principal para modificar los nombres de los modelos de motos.\n",
    "    Args:\n",
    "        entradas_producto_moto_mx (list): Lista de entradas de producto de moto de México.\n",
    "        modelos (list): Lista de modelos de motos a modificar.\n",
    "        modificar_realmente (bool): Si es True, se modificarán los nombres de los modelos. De lo contrario, solo se simulará el proceso.\n",
    "    \"\"\"\n",
    "\n",
    "    # Procesar modificaciones (real o simulación)\n",
    "    log_cambios = procesar_modificacion_modelos(entradas_producto_moto_mx, modelos, modificar_realmente)\n",
    "\n",
    "    # Registrar cambios realizados junto con la fecha actual\n",
    "    registrar_cambios(log_cambios, obtener_fecha_actual())"
   ]
  },
  {
   "cell_type": "code",
   "execution_count": null,
   "metadata": {},
   "outputs": [],
   "source": [
    "main(entradas_producto_moto_mx, modelos, modificar_realmente=True)"
   ]
  },
  {
   "cell_type": "markdown",
   "metadata": {},
   "source": [
    "## Revertir cambios realizados"
   ]
  },
  {
   "cell_type": "code",
   "execution_count": 16,
   "metadata": {},
   "outputs": [],
   "source": [
    "# from modificar_nombre_productos.revertir_cambios import revertir_todos_cambios\n",
    "# contentful_manager.mostrar_entrada(\"3mgIyksr8sNjbYuY8LHvqJ\")\n",
    "# revertir_todos_cambios(\"log_cambios_modelos_2024-11-20.json\",entradas_producto_moto_mx)"
   ]
  }
 ],
 "metadata": {
  "kernelspec": {
   "display_name": "venv",
   "language": "python",
   "name": "python3"
  },
  "language_info": {
   "codemirror_mode": {
    "name": "ipython",
    "version": 3
   },
   "file_extension": ".py",
   "mimetype": "text/x-python",
   "name": "python",
   "nbconvert_exporter": "python",
   "pygments_lexer": "ipython3",
   "version": "3.8.0"
  }
 },
 "nbformat": 4,
 "nbformat_minor": 2
}
